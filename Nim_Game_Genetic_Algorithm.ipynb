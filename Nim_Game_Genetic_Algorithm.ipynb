{
  "cells": [
    {
      "cell_type": "markdown",
      "metadata": {
        "id": "jN-i1o-2VzYp"
      },
      "source": [
        "# Genetic Algorithms & Nim's Game\n"
      ]
    },
    {
      "cell_type": "markdown",
      "metadata": {
        "id": "HNDKa8AQjtl5"
      },
      "source": [
        "Rules of Nim's game:\n",
        "\n",
        "* There are 20 sticks, 2 players.\n",
        "* The players remove sticks in turns.\n",
        "* To win, a player has to remove the last stick.\n",
        "* Players may only remove 1, 2 or 3 stick(s) each turn."
      ]
    },
    {
      "cell_type": "markdown",
      "metadata": {
        "id": "3ThOmshUXiuE"
      },
      "source": [
        "Now, let's think of what is a \"strategy\" for this game.\n",
        "\n",
        "Basically, if given a number of sticks remaining, a trategy tells us how many we should remove;\n",
        "i.e. for any number $n \\in \\mathbb{N}$, a strategy outputs a number of sticks to remove $r\\in \\{ 1,2,3 \\}$.\n",
        "\n",
        "So a strategy $s$ is basically a function $s: \\mathbb{N} \\to \\{ 1,2,3 \\}$.\n",
        "\n",
        "Our goal is now to find the optimal strategy $s^*$ (say).\n",
        "This is the strategy that would (should) win against any other strategy at least 50% of the time (wins 50% of the time against itself, depending on which one starts)."
      ]
    },
    {
      "cell_type": "code",
      "execution_count": null,
      "metadata": {
        "id": "Ny4y29ji51Kd"
      },
      "outputs": [],
      "source": [
        "import random\n",
        "import numpy as np\n",
        "import matplotlib.pyplot as plt\n",
        "import pandas as pd"
      ]
    },
    {
      "cell_type": "markdown",
      "metadata": {
        "id": "dzbUS5tFZrC9"
      },
      "source": [
        "Let's implement some basic trategies:\n",
        "\n",
        "1. *random*: removes 1, 2 or 3 sticks at random\n",
        "2. *max*: always removes 3 sticks\n",
        "3. *min*: always removes 1 stick\n",
        "4. *min-max*: removes wins if possible (i.e. if there is 1,2, or 3 sticks left), otherwise, removes a single stick.\n",
        "\n"
      ]
    },
    {
      "cell_type": "code",
      "execution_count": null,
      "metadata": {
        "id": "bLo-cbGqdPPG"
      },
      "outputs": [],
      "source": [
        "def strat_random(n):\n",
        "  pass"
      ]
    },
    {
      "cell_type": "code",
      "execution_count": null,
      "metadata": {
        "id": "c5mXCHxO68ja"
      },
      "outputs": [],
      "source": [
        "def strat_max(n):\n",
        "  pass"
      ]
    },
    {
      "cell_type": "code",
      "execution_count": null,
      "metadata": {
        "id": "4B0JyNp2-4S0"
      },
      "outputs": [],
      "source": [
        "def strat_min(n):\n",
        "  pass"
      ]
    },
    {
      "cell_type": "code",
      "execution_count": null,
      "metadata": {
        "id": "LPK6KDx4Brop"
      },
      "outputs": [],
      "source": [
        "def strat_min_max(n):\n",
        "  pass"
      ]
    },
    {
      "cell_type": "markdown",
      "metadata": {
        "id": "4Yzm_w6yakkk"
      },
      "source": [
        "**[conjecture what which one will win against which other...]**"
      ]
    },
    {
      "cell_type": "markdown",
      "metadata": {
        "id": "7rb6pj59kRfm"
      },
      "source": [
        "Let's make a tournament to check you conjecture.\n",
        "\n",
        "We start by defining a `game` function, that takes two strategies a number of sticks, and returns `0` or `1` depending on which player (strategy) wins."
      ]
    },
    {
      "cell_type": "code",
      "execution_count": null,
      "metadata": {
        "id": "WeX9UTCHteZi"
      },
      "outputs": [],
      "source": [
        "def game(strat1, strat2, n=20):\n",
        "  pass"
      ]
    },
    {
      "cell_type": "code",
      "execution_count": null,
      "metadata": {
        "id": "dlKIwQUbp-cb"
      },
      "outputs": [],
      "source": [
        "game(strat_min, strat_max)"
      ]
    },
    {
      "cell_type": "markdown",
      "metadata": {
        "id": "SOL5_Z8enQlm"
      },
      "source": [
        "Then, we define a `games` function, that repeats the game function a given number of times, and summs the results."
      ]
    },
    {
      "cell_type": "code",
      "execution_count": null,
      "metadata": {
        "id": "lxwiVeYE8xyg"
      },
      "outputs": [],
      "source": [
        "def games(strat1, strat2, n=20, nb_matches=10**4):\n",
        "  wins = 0\n",
        "  for i in range(nb_matches):\n",
        "    wins += game(strat1, strat2, n)\n",
        "  return wins"
      ]
    },
    {
      "cell_type": "code",
      "execution_count": null,
      "metadata": {
        "id": "fxlY_a5cBmqQ"
      },
      "outputs": [],
      "source": [
        "NB_MATCHES=10**5\n",
        "games(strat_random, strat_min, nb_matches=NB_MATCHES)*100/NB_MATCHES"
      ]
    },
    {
      "cell_type": "code",
      "execution_count": null,
      "metadata": {
        "id": "-3qWvAFCBTp7"
      },
      "outputs": [],
      "source": [
        "NB_MATCHES=10**5\n",
        "games(strat_max, strat_max, nb_matches=NB_MATCHES)/NB_MATCHES"
      ]
    },
    {
      "cell_type": "markdown",
      "metadata": {
        "id": "WsoUcmqPoV-4"
      },
      "source": [
        "We finally define a tournament, that makes games between every strategies:"
      ]
    },
    {
      "cell_type": "code",
      "execution_count": null,
      "metadata": {
        "id": "Lz0yrWaA-_P_"
      },
      "outputs": [],
      "source": [
        "def tournament(strats_list, n=20, nb_matches=10**4):\n",
        "  scores = np.zeros( (len(strats_list), len(strats_list)), dtype=np.int32)\n",
        "  for i, strat1 in enumerate(strats_list):\n",
        "    for j, strat2 in enumerate(strats_list):\n",
        "      scores[i,j] = games(strat1, strat2, n, nb_matches)\n",
        "  return scores"
      ]
    },
    {
      "cell_type": "markdown",
      "metadata": {
        "id": "pqhui5YKMgpB"
      },
      "source": [
        "We plot the tournament results:"
      ]
    },
    {
      "cell_type": "code",
      "execution_count": null,
      "metadata": {
        "id": "i8yFjIFUAwBO"
      },
      "outputs": [],
      "source": [
        "# options\n",
        "NB_MATCHES = 10**4\n",
        "N = 20\n",
        "STRATS_NAMES = [\"random\", \"min\", \"max\", \"min-max\"]\n",
        "STRATS = [strat_random, strat_min, strat_max, strat_min_max]\n",
        "# make tournament\n",
        "scores = tournament(STRATS, n=N, nb_matches=NB_MATCHES)\n",
        "# print results\n",
        "pd.DataFrame(scores/NB_MATCHES, STRATS_NAMES, STRATS_NAMES)"
      ]
    },
    {
      "cell_type": "markdown",
      "metadata": {
        "id": "7XcBP4Ykd_3B"
      },
      "source": [
        "**[is this what you expected?]**"
      ]
    },
    {
      "cell_type": "markdown",
      "metadata": {
        "id": "_gDZToafdzwL"
      },
      "source": [
        "Now, let's see is we can try to \"visualize\" a strategy...\n",
        "We will plot the *function* that represents the strategy.\n",
        "\n",
        "*(in the case of the random strategy, we can take an average)*"
      ]
    },
    {
      "cell_type": "code",
      "execution_count": null,
      "metadata": {
        "id": "LyM5qlcxteg2"
      },
      "outputs": [],
      "source": [
        "def average_take(strat, n_max=20, nb_draws=10**4):\n",
        "  y = np.zeros(n_max)\n",
        "  for n in range(n_max):\n",
        "    s = 0\n",
        "    for i in range(nb_draws):\n",
        "      s += strat(n+1)\n",
        "    y[n] = s/nb_draws\n",
        "  return y"
      ]
    },
    {
      "cell_type": "code",
      "execution_count": null,
      "metadata": {
        "id": "Bts9VV9keiPc"
      },
      "outputs": [],
      "source": [
        "N = 20\n",
        "NB_DRAWS = 10**4\n",
        "print(average_take(strat_random, n_max=N, nb_draws=NB_DRAWS))"
      ]
    },
    {
      "cell_type": "code",
      "execution_count": null,
      "metadata": {
        "id": "d09KHCalelXx"
      },
      "outputs": [],
      "source": [
        "def plot_average_take(strat, n_max=20, nb_draws=10**4, **args):\n",
        "  x = np.arange(n_max, dtype=np.int32)+1\n",
        "  y = average_take(strat, n_max, nb_draws)\n",
        "  plt.plot(x,y,'-*', **args)\n",
        "  plt.xticks(list(range(1,n_max+1)))\n",
        "  plt.xlabel('# stricks remaining')\n",
        "  plt.yticks(list(range(0,5)))\n",
        "  plt.ylabel('# stricks taken')"
      ]
    },
    {
      "cell_type": "code",
      "execution_count": null,
      "metadata": {
        "id": "Clkws03TGUqa"
      },
      "outputs": [],
      "source": [
        "N = 20\n",
        "NB_DRAWS = 10**4\n",
        "plt.title('random strategy')\n",
        "plot_average_take(strat_random, n_max=N, nb_draws=NB_DRAWS)\n",
        "plt.show()"
      ]
    },
    {
      "cell_type": "code",
      "execution_count": null,
      "metadata": {
        "id": "Z6QAQQXAdx8l"
      },
      "outputs": [],
      "source": [
        "def plot_average_take_multi(strats, strats_names, n_max=20, nb_draws=10**4):\n",
        "  x = np.arange(n_max, dtype=np.int32)+1\n",
        "  i = -len(strats)//2\n",
        "  for strat, strat_names in zip(strats,strats_names):\n",
        "    y = average_take(strat, n_max, nb_draws)+(i*0.05)\n",
        "    plt.plot(x,y,'-*', label=strat_names)\n",
        "    i+=1\n",
        "  plt.xticks(list(range(1,n_max+1)))\n",
        "  plt.xlabel('# stricks remaining')\n",
        "  plt.yticks(list(range(0,5)))\n",
        "  plt.ylabel('# stricks taken')\n",
        "  plt.legend()"
      ]
    },
    {
      "cell_type": "code",
      "execution_count": null,
      "metadata": {
        "id": "keSOYEzmFMO6"
      },
      "outputs": [],
      "source": [
        "N = 20\n",
        "NB_DRAWS = 10**4\n",
        "plot_average_take_multi(STRATS, STRATS_NAMES, n_max=N, nb_draws=NB_DRAWS)"
      ]
    },
    {
      "cell_type": "markdown",
      "metadata": {
        "id": "uq5mzzg5oYI3"
      },
      "source": [
        "-----\n",
        "\n",
        "These were very basic strategies... now let's try to find ***THE*** best strategy.\n",
        "\n",
        "To do so, we need to optimize the strategy $s: \\mathbb{N} \\to \\{1,2,3\\}$.\n",
        "We will tackle this optimization task using a **\"genetic algorithm\"**.\n",
        "\n",
        "-----"
      ]
    },
    {
      "cell_type": "markdown",
      "metadata": {
        "id": "trwwPZjMgNs-"
      },
      "source": [
        "**Principle:**\n",
        "\n",
        "We have a population of individuals, each with their own strategy.\n",
        "This strategy is encoded in their DNA.\n",
        "The DNA will therefore be a list of length 20, with values in $\\{1,2,3\\}.\n",
        "\n",
        "The strategy of the population is, for each turn, to choose an individual at random to play a turn."
      ]
    },
    {
      "cell_type": "markdown",
      "metadata": {
        "id": "ODUfFoZgi_z8"
      },
      "source": [
        "**Optimization:**\n",
        "\n",
        "We have a population made of individuals with DNA... Let's use the process of natural selection to imporve the population's fitness (i.e. improve the population's strategy).\n",
        "\n",
        "A population will give birth to a new a new generation through 3 stages:\n",
        "1. *selection*: evaluate the performances of each individual, and kill the forst ones\n",
        "2. *reproduction*: use the surviving individuals to create a new population: choose two *parents* at random, and make them have a *child*; strat over untill a full population is created\n",
        "3. *mutation*: randomly make some changes in the DNA (to allow the emergence of new strategies)\n",
        "\n",
        "We start with a population drawn at random, and hope to improve it over generations."
      ]
    },
    {
      "cell_type": "code",
      "execution_count": null,
      "metadata": {
        "id": "o_Gla1j7J9sT"
      },
      "outputs": [],
      "source": [
        "N = 20\n",
        "POP_SIZE = 400\n",
        "POP_SELECTION_SIZE = 50\n",
        "NB_GAMES_EVAL = 10**2\n",
        "MUTATION_PROBA = 5e-3\n",
        "NB_GENERATIONS = 11"
      ]
    },
    {
      "cell_type": "markdown",
      "metadata": {
        "id": "wjSDAsgKEW98"
      },
      "source": [
        "Generate a random population (use numpy), for a game with `N` sticks and a population of size `POP_SIZE`."
      ]
    },
    {
      "cell_type": "code",
      "execution_count": null,
      "metadata": {
        "id": "O9aK50MUW2Z2"
      },
      "outputs": [],
      "source": [
        "def random_pop():\n",
        "  global POP_SIZE, N\n",
        "  rand = np.random.random(N*POP_SIZE)*3\n",
        "  shaped_rand = rand.reshape((POP_SIZE, N))\n",
        "  int_rand = np.floor(shaped_rand).astype(dtype=np.int32)\n",
        "  return int_rand+1"
      ]
    },
    {
      "cell_type": "code",
      "execution_count": null,
      "metadata": {
        "id": "NNaHpD8DW-os"
      },
      "outputs": [],
      "source": [
        "pop = random_pop()\n",
        "pop[:3,:]"
      ]
    },
    {
      "cell_type": "markdown",
      "metadata": {
        "id": "Mi6l4G-CEbRQ"
      },
      "source": [
        "Define a strategy that follows this random population: pick one individual at random and let it play."
      ]
    },
    {
      "cell_type": "code",
      "execution_count": null,
      "metadata": {
        "id": "NIXiPbSTOoP8"
      },
      "outputs": [],
      "source": [
        "def strat_pop(n):\n",
        "  global pop, POP_SIZE\n",
        "  i = int(random.random()*POP_SIZE)\n",
        "  return min(n, pop[i, n-1])\n",
        "strat_pop(5)"
      ]
    },
    {
      "cell_type": "markdown",
      "metadata": {
        "id": "mc2bkhWtFHVT"
      },
      "source": [
        "Plot this random population using `plot_average_take` and `NB_DRAWS`; it should oscillate around 2."
      ]
    },
    {
      "cell_type": "code",
      "execution_count": null,
      "metadata": {
        "id": "Q9eh3aXVQbGb"
      },
      "outputs": [],
      "source": [
        "plt.title('random pop')\n",
        "plot_average_take(strat_pop, n_max=N, nb_draws=NB_DRAWS)"
      ]
    },
    {
      "cell_type": "markdown",
      "metadata": {
        "id": "rANqK2O8FPD7"
      },
      "source": [
        "Define a function that evaluates the fitness of a population against an other strategy: for each individual, the fitness is the number of wins of this individual against the opposing strategy out of `NB_GAMES_EVAL`."
      ]
    },
    {
      "cell_type": "code",
      "execution_count": null,
      "metadata": {
        "id": "w_y9vS1cQfzf"
      },
      "outputs": [],
      "source": [
        "def eval_pop(strat_opp):\n",
        "  global pop, N, POP_SIZE, NB_GAMES_EVAL\n",
        "  fitness = np.zeros(POP_SIZE)\n",
        "  for i in range(POP_SIZE):\n",
        "    strat_indiv = lambda n: min(pop[i, n-1], n)\n",
        "    f = games(strat_opp, strat_indiv, n=N, nb_matches=NB_GAMES_EVAL//2)\n",
        "    f -= games(strat_indiv, strat_opp, n=N, nb_matches=NB_GAMES_EVAL//2)\n",
        "    fitness[i] = f\n",
        "  return fitness"
      ]
    },
    {
      "cell_type": "code",
      "execution_count": null,
      "metadata": {
        "id": "cWVfBk5GWAwg"
      },
      "outputs": [],
      "source": [
        "fitness = eval_pop(strat_random)\n",
        "fitness[:10]"
      ]
    },
    {
      "cell_type": "markdown",
      "metadata": {
        "id": "PcLB9-HHFnjD"
      },
      "source": [
        "Define a seletion on the population: take the `POP_SELECTION_SIZE` most fit indiviuals of the population."
      ]
    },
    {
      "cell_type": "code",
      "execution_count": null,
      "metadata": {
        "id": "SgDx-xBuSqzk"
      },
      "outputs": [],
      "source": [
        "def select_pop():\n",
        "  global pop, fitness, POP_SELECTION_SIZE\n",
        "  fitness_index = fitness.argsort()\n",
        "  selected_pop = pop[fitness_index[:POP_SELECTION_SIZE], :]\n",
        "  return selected_pop"
      ]
    },
    {
      "cell_type": "code",
      "execution_count": null,
      "metadata": {
        "id": "YHv887MCWGUt"
      },
      "outputs": [],
      "source": [
        "selected_pop = select_pop()\n",
        "selected_pop[:3,:]"
      ]
    },
    {
      "cell_type": "markdown",
      "metadata": {
        "id": "soRStOXyF36w"
      },
      "source": [
        "Define a child function, that takes two individuals, and create a trustworthy child by mixing the genes randomly."
      ]
    },
    {
      "cell_type": "code",
      "execution_count": null,
      "metadata": {
        "id": "fdnrXFCxSzJn"
      },
      "outputs": [],
      "source": [
        "def child(gene1, gene2):\n",
        "  global N\n",
        "  child = np.zeros(N, dtype=np.int32)\n",
        "  choice = np.floor(np.random.random(N)*2)\n",
        "  for i in range(N):\n",
        "    if choice[i] == 1:\n",
        "      child[i] = gene1[i]\n",
        "    else:\n",
        "      child[i] = gene2[i]\n",
        "  return child"
      ]
    },
    {
      "cell_type": "markdown",
      "metadata": {
        "id": "smRa7fPCGH24"
      },
      "source": [
        "Define a reproduction function for the population, that fills a new population with childs of parents taken in the selected population."
      ]
    },
    {
      "cell_type": "code",
      "execution_count": null,
      "metadata": {
        "id": "LV10kcxsVbk2"
      },
      "outputs": [],
      "source": [
        "def reproduce_pop():\n",
        "  global selected_pop, POP_SIZE, N, POP_SELECTION_SIZE\n",
        "  new_pop = np.zeros((POP_SIZE, N), dtype=np.int32)\n",
        "  for i in range(POP_SIZE):\n",
        "    a = int(random.random()*POP_SELECTION_SIZE)\n",
        "    b = int(random.random()*POP_SELECTION_SIZE)\n",
        "    new_pop[i, :] = child(selected_pop[a,:], selected_pop[b, :])\n",
        "  return new_pop"
      ]
    },
    {
      "cell_type": "markdown",
      "metadata": {
        "id": "IgKkLvgsGaBK"
      },
      "source": [
        "Plot the original population and the next generation (after reproducing once)"
      ]
    },
    {
      "cell_type": "code",
      "execution_count": null,
      "metadata": {
        "id": "pdeYLFi5Wtf7"
      },
      "outputs": [],
      "source": [
        "pop = random_pop()\n",
        "plot_average_take(strat_pop, n_max=N, nb_draws=NB_DRAWS, label=\"original generation\")\n",
        "pop = reproduce_pop()\n",
        "plot_average_take(strat_pop, n_max=N, nb_draws=NB_DRAWS, label=\"next generation\")\n",
        "plt.legend()\n",
        "plt.show()"
      ]
    },
    {
      "cell_type": "markdown",
      "metadata": {
        "id": "dgXlZ-uAGk-9"
      },
      "source": [
        "Define a mutation function, that add random mutations to a population, according to `MUTATION_PROBA`."
      ]
    },
    {
      "cell_type": "code",
      "execution_count": null,
      "metadata": {
        "id": "ByD-enEUfAHP"
      },
      "outputs": [],
      "source": [
        "def mutate_pop():\n",
        "  global pop, N, POP_SIZE, MUTATION_PROBA\n",
        "  mut = np.random.random(N*POP_SIZE)<MUTATION_PROBA\n",
        "  s = np.sum(mut)\n",
        "  shaped_mut = mut.reshape((POP_SIZE, N))\n",
        "  mutated = np.floor(np.random.random(s)*3).astype(np.int32)+1\n",
        "  pop[shaped_mut] = mutated\n",
        "  return pop"
      ]
    },
    {
      "cell_type": "markdown",
      "metadata": {
        "id": "EZSqW2B-Io8T"
      },
      "source": [
        "Finally, define an evolving function, that creates a random population, and makes it evolve for `NB_GENERATIONS` against a given opposing strategy."
      ]
    },
    {
      "cell_type": "code",
      "execution_count": null,
      "metadata": {
        "id": "e4wojGaxXjmU"
      },
      "outputs": [],
      "source": [
        "def evolve(strat_opp, disp=True):\n",
        "  global pop, fitness, selected_pop, NB_GENERATIONS, NB_DRAWS, N\n",
        "  pop = random_pop()\n",
        "  for generation in range(NB_GENERATIONS):\n",
        "    if disp:\n",
        "      plt.title(f'generation {generation:02d}')\n",
        "      plot_average_take(strat_pop, n_max=N, nb_draws=NB_DRAWS)\n",
        "      plt.show()\n",
        "    fitness = eval_pop(strat_opp)\n",
        "    selected_pop = select_pop()\n",
        "    pop = reproduce_pop()\n",
        "    pop = mutate_pop()"
      ]
    },
    {
      "cell_type": "code",
      "execution_count": null,
      "metadata": {
        "id": "BQz5XkQgm6CE"
      },
      "outputs": [],
      "source": [
        "# train against random strategy\n",
        "NB_GENERATIONS=16\n",
        "evolve(strat_random)"
      ]
    },
    {
      "cell_type": "code",
      "execution_count": null,
      "metadata": {
        "id": "dyYqmB1zn7LR"
      },
      "outputs": [],
      "source": [
        "# train against itself\n",
        "NB_GENERATIONS=11\n",
        "evolve(strat_pop)"
      ]
    },
    {
      "cell_type": "markdown",
      "metadata": {
        "id": "juuFOcttTZIg"
      },
      "source": [
        "Training against itself works better, so we'll use that technique for final training"
      ]
    },
    {
      "cell_type": "code",
      "execution_count": null,
      "metadata": {
        "id": "ufMWdvlx1Qbh"
      },
      "outputs": [],
      "source": [
        "NB_GENERATIONS=21\n",
        "evolve(strat_pop, disp=False)"
      ]
    },
    {
      "cell_type": "markdown",
      "metadata": {
        "id": "YLxdzD06JaBx"
      },
      "source": [
        "We plot the final genetic strategy"
      ]
    },
    {
      "cell_type": "code",
      "execution_count": null,
      "metadata": {
        "id": "w0Fju1lOmLtC"
      },
      "outputs": [],
      "source": [
        "plt.title('genetic strategy')\n",
        "plot_average_take(strat_pop, n_max=N, nb_draws=NB_DRAWS)\n",
        "plt.show()"
      ]
    },
    {
      "cell_type": "markdown",
      "metadata": {
        "id": "RmYuCMYwmmar"
      },
      "source": [
        "**[can you deduce what is *THE* optimal strategy?]**"
      ]
    },
    {
      "cell_type": "markdown",
      "metadata": {
        "id": "ZneFF-J5nde7"
      },
      "source": [
        "Let's write out the mathematical optimal strategyn, and test it against others."
      ]
    },
    {
      "cell_type": "code",
      "execution_count": null,
      "metadata": {
        "id": "1nLT1yTdmvXl"
      },
      "outputs": [],
      "source": [
        "def strat_optim(n):\n",
        "  if n%4==0:\n",
        "    return 2 # anything here, there is no \"good\" answer\n",
        "  else:\n",
        "    return n%4"
      ]
    },
    {
      "cell_type": "code",
      "execution_count": null,
      "metadata": {
        "id": "kqbFe_qBm30i"
      },
      "outputs": [],
      "source": [
        "plt.title('optimal strategy')\n",
        "plot_average_take(strat_optim, n_max=N, nb_draws=NB_DRAWS)\n",
        "plt.show()"
      ]
    },
    {
      "cell_type": "markdown",
      "metadata": {
        "id": "a2n-hVOhJGg1"
      },
      "source": [
        "Now we make a final tournament to see which strategy is the best"
      ]
    },
    {
      "cell_type": "code",
      "execution_count": null,
      "metadata": {
        "id": "V7d3AcDG2JU0"
      },
      "outputs": [],
      "source": [
        "# options\n",
        "NB_MATCHES = 10**4\n",
        "STRATS_NAMES = [\"random\", \"min\", \"max\", \"min-max\", \"genetic\", \"optimal\"]\n",
        "STRATS = [strat_random, strat_min, strat_max, strat_min_max, strat_pop, strat_optim]\n",
        "# make tournament\n",
        "scores = tournament(STRATS, n=N, nb_matches=NB_MATCHES)\n",
        "# print results\n",
        "pd.DataFrame(scores/NB_MATCHES, STRATS_NAMES, STRATS_NAMES)"
      ]
    },
    {
      "cell_type": "markdown",
      "metadata": {
        "id": "m8LqXoVPKDZP"
      },
      "source": [
        "To finish, we compare the plots of the differents strategies"
      ]
    },
    {
      "cell_type": "code",
      "execution_count": null,
      "metadata": {
        "id": "_nRYa52z2MKn"
      },
      "outputs": [],
      "source": [
        "NB_DRAWS = 10**4\n",
        "plot_average_take_multi(STRATS, STRATS_NAMES, n_max=N, nb_draws=NB_DRAWS)"
      ]
    }
  ],
  "metadata": {
    "colab": {
      "provenance": []
    },
    "kernelspec": {
      "display_name": "Python 3",
      "language": "python",
      "name": "python3"
    },
    "language_info": {
      "codemirror_mode": {
        "name": "ipython",
        "version": 3
      },
      "file_extension": ".py",
      "mimetype": "text/x-python",
      "name": "python",
      "nbconvert_exporter": "python",
      "pygments_lexer": "ipython3",
      "version": "3.10.7"
    },
    "vscode": {
      "interpreter": {
        "hash": "689ffbb94fe8f58a5045b4f3f0726e738a118a8a590ae859861904a2cad8ac3d"
      }
    }
  },
  "nbformat": 4,
  "nbformat_minor": 0
}
